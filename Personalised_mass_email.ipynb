{
 "cells": [
  {
   "cell_type": "code",
   "execution_count": null,
   "metadata": {},
   "outputs": [],
   "source": [
    "\n",
    "import pandas as pd\n",
    "import smtplib"
   ]
  },
  {
   "cell_type": "code",
   "execution_count": null,
   "metadata": {},
   "outputs": [],
   "source": [
    "e = pd.read_excel(\"excel.xlsx\")   #read the excel sheet\n",
    "emails = e['Email'].values        #column of email id's\n",
    "grades = e['Marks'].values        #column of grades/marks\n",
    "feedback = e['Feedback'].values   #column containing feedback"
   ]
  },
  {
   "cell_type": "code",
   "execution_count": null,
   "metadata": {},
   "outputs": [],
   "source": [
    "#checks\n",
    "print(emails)\n",
    "print(grades)\n",
    "print(feedback)"
   ]
  },
  {
   "cell_type": "code",
   "execution_count": null,
   "metadata": {},
   "outputs": [],
   "source": [
    "server = smtplib.SMTP(\"smtp.gmail.com\",587)           #create the connetion\n",
    "server.starttls()\n",
    "server.login(\"sender_email@gmail.com\",\"yourpassword\") #enter your email id and password"
   ]
  },
  {
   "cell_type": "code",
   "execution_count": null,
   "metadata": {},
   "outputs": [],
   "source": [
    "i = 0\n",
    "for email in emails:\n",
    "    print(email)\n",
    "    msg = \"enter your message here\"                       #enter the personalised message (the body of the email)\n",
    "    subject = \"subject\"                                   #subject line\n",
    "    body = \"Subject: {}\\n\\n{}\".format(subject,msg)\n",
    "    server.sendmail(\"sender_email@gmail.com\",email,body)  #enter your email id\n",
    "    i = i + 1\n",
    "server.quit()                                             #terminate the connection"
   ]
  }
 ],
 "metadata": {
  "kernelspec": {
   "display_name": "Python 3",
   "language": "python",
   "name": "python3"
  },
  "language_info": {
   "codemirror_mode": {
    "name": "ipython",
    "version": 3
   },
   "file_extension": ".py",
   "mimetype": "text/x-python",
   "name": "python",
   "nbconvert_exporter": "python",
   "pygments_lexer": "ipython3",
   "version": "3.7.4"
  }
 },
 "nbformat": 4,
 "nbformat_minor": 2
}
